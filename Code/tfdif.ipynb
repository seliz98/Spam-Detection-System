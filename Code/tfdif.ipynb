{
 "cells": [
  {
   "cell_type": "code",
   "execution_count": 17,
   "metadata": {},
   "outputs": [],
   "source": [
    "import pandas as pd;\n",
    "import re;"
   ]
  },
  {
   "cell_type": "code",
   "execution_count": 18,
   "metadata": {},
   "outputs": [],
   "source": [
    "df = pd.read_csv('ham_data.txt', sep=\",\", header=None)"
   ]
  },
  {
   "cell_type": "code",
   "execution_count": 19,
   "metadata": {},
   "outputs": [
    {
     "data": {
      "text/html": [
       "<div>\n",
       "<style scoped>\n",
       "    .dataframe tbody tr th:only-of-type {\n",
       "        vertical-align: middle;\n",
       "    }\n",
       "\n",
       "    .dataframe tbody tr th {\n",
       "        vertical-align: top;\n",
       "    }\n",
       "\n",
       "    .dataframe thead th {\n",
       "        text-align: right;\n",
       "    }\n",
       "</style>\n",
       "<table border=\"1\" class=\"dataframe\">\n",
       "  <thead>\n",
       "    <tr style=\"text-align: right;\">\n",
       "      <th></th>\n",
       "      <th>0</th>\n",
       "      <th>1</th>\n",
       "    </tr>\n",
       "  </thead>\n",
       "  <tbody>\n",
       "    <tr>\n",
       "      <th>0</th>\n",
       "      <td>A00008281Z7EL3AO1UQD7</td>\n",
       "      <td>cute</td>\n",
       "    </tr>\n",
       "    <tr>\n",
       "      <th>1</th>\n",
       "      <td>A000123613N4QBI2JI0JD</td>\n",
       "      <td>the case feels a bit cheap but overall its a n...</td>\n",
       "    </tr>\n",
       "    <tr>\n",
       "      <th>2</th>\n",
       "      <td>A000244435OT5FBABPR4J</td>\n",
       "      <td>i was searching through amazon looking for a n...</td>\n",
       "    </tr>\n",
       "    <tr>\n",
       "      <th>3</th>\n",
       "      <td>A00026861LL8FKLSE1O0S</td>\n",
       "      <td>i liked it but it didt protect my screen from ...</td>\n",
       "    </tr>\n",
       "    <tr>\n",
       "      <th>4</th>\n",
       "      <td>A00026861LL8FKLSE1O0S</td>\n",
       "      <td>very poor quality it comes in two parts and it...</td>\n",
       "    </tr>\n",
       "  </tbody>\n",
       "</table>\n",
       "</div>"
      ],
      "text/plain": [
       "                       0                                                  1\n",
       "0  A00008281Z7EL3AO1UQD7                                               cute\n",
       "1  A000123613N4QBI2JI0JD  the case feels a bit cheap but overall its a n...\n",
       "2  A000244435OT5FBABPR4J  i was searching through amazon looking for a n...\n",
       "3  A00026861LL8FKLSE1O0S  i liked it but it didt protect my screen from ...\n",
       "4  A00026861LL8FKLSE1O0S  very poor quality it comes in two parts and it..."
      ]
     },
     "execution_count": 19,
     "metadata": {},
     "output_type": "execute_result"
    }
   ],
   "source": [
    "df.head()\n"
   ]
  },
  {
   "cell_type": "code",
   "execution_count": 20,
   "metadata": {},
   "outputs": [],
   "source": [
    "df[1] = df[1].apply(lambda x: re.sub(r\"[^a-zA-Z]+\",' ', x))"
   ]
  },
  {
   "cell_type": "code",
   "execution_count": 21,
   "metadata": {},
   "outputs": [],
   "source": [
    "df = df.groupby(0)"
   ]
  },
  {
   "cell_type": "code",
   "execution_count": 22,
   "metadata": {},
   "outputs": [
    {
     "data": {
      "text/html": [
       "<div>\n",
       "<style scoped>\n",
       "    .dataframe tbody tr th:only-of-type {\n",
       "        vertical-align: middle;\n",
       "    }\n",
       "\n",
       "    .dataframe tbody tr th {\n",
       "        vertical-align: top;\n",
       "    }\n",
       "\n",
       "    .dataframe thead th {\n",
       "        text-align: right;\n",
       "    }\n",
       "</style>\n",
       "<table border=\"1\" class=\"dataframe\">\n",
       "  <thead>\n",
       "    <tr style=\"text-align: right;\">\n",
       "      <th></th>\n",
       "      <th>0</th>\n",
       "      <th>1</th>\n",
       "    </tr>\n",
       "  </thead>\n",
       "  <tbody>\n",
       "    <tr>\n",
       "      <th>0</th>\n",
       "      <td>A00008281Z7EL3AO1UQD7</td>\n",
       "      <td>cute</td>\n",
       "    </tr>\n",
       "    <tr>\n",
       "      <th>1</th>\n",
       "      <td>A000123613N4QBI2JI0JD</td>\n",
       "      <td>the case feels a bit cheap but overall its a n...</td>\n",
       "    </tr>\n",
       "    <tr>\n",
       "      <th>2</th>\n",
       "      <td>A000244435OT5FBABPR4J</td>\n",
       "      <td>i was searching through amazon looking for a n...</td>\n",
       "    </tr>\n",
       "    <tr>\n",
       "      <th>3</th>\n",
       "      <td>A00026861LL8FKLSE1O0S</td>\n",
       "      <td>i liked it but it didt protect my screen from ...</td>\n",
       "    </tr>\n",
       "    <tr>\n",
       "      <th>4</th>\n",
       "      <td>A00026861LL8FKLSE1O0S</td>\n",
       "      <td>very poor quality it comes in two parts and it...</td>\n",
       "    </tr>\n",
       "    <tr>\n",
       "      <th>5</th>\n",
       "      <td>A0002730WOKVUCGRLYJU</td>\n",
       "      <td>the adapter snapped as soon as i put my phone ...</td>\n",
       "    </tr>\n",
       "    <tr>\n",
       "      <th>6</th>\n",
       "      <td>A000443821AD43TOGKNGZ</td>\n",
       "      <td>i chose this rating because it was hard to get...</td>\n",
       "    </tr>\n",
       "    <tr>\n",
       "      <th>7</th>\n",
       "      <td>A00057621NM70611JIO97</td>\n",
       "      <td>the cords are cheap and it shows why the charg...</td>\n",
       "    </tr>\n",
       "    <tr>\n",
       "      <th>8</th>\n",
       "      <td>A00060661O5Y63JM18F33</td>\n",
       "      <td>this product was very well made and will last ...</td>\n",
       "    </tr>\n",
       "    <tr>\n",
       "      <th>9</th>\n",
       "      <td>A00062283LKXEZFY9NQ8B</td>\n",
       "      <td>it is good for me to recharge the battery in m...</td>\n",
       "    </tr>\n",
       "  </tbody>\n",
       "</table>\n",
       "</div>"
      ],
      "text/plain": [
       "                       0                                                  1\n",
       "0  A00008281Z7EL3AO1UQD7                                               cute\n",
       "1  A000123613N4QBI2JI0JD  the case feels a bit cheap but overall its a n...\n",
       "2  A000244435OT5FBABPR4J  i was searching through amazon looking for a n...\n",
       "3  A00026861LL8FKLSE1O0S  i liked it but it didt protect my screen from ...\n",
       "4  A00026861LL8FKLSE1O0S  very poor quality it comes in two parts and it...\n",
       "5   A0002730WOKVUCGRLYJU  the adapter snapped as soon as i put my phone ...\n",
       "6  A000443821AD43TOGKNGZ  i chose this rating because it was hard to get...\n",
       "7  A00057621NM70611JIO97  the cords are cheap and it shows why the charg...\n",
       "8  A00060661O5Y63JM18F33  this product was very well made and will last ...\n",
       "9  A00062283LKXEZFY9NQ8B  it is good for me to recharge the battery in m..."
      ]
     },
     "execution_count": 22,
     "metadata": {},
     "output_type": "execute_result"
    }
   ],
   "source": [
    "df.head()"
   ]
  },
  {
   "cell_type": "code",
   "execution_count": 23,
   "metadata": {},
   "outputs": [],
   "source": [
    "df.apply(lambda x: x.to_csv(r'{}.txt'.format(x.name),header=False,index=False, sep=','));"
   ]
  },
  {
   "cell_type": "code",
   "execution_count": null,
   "metadata": {},
   "outputs": [],
   "source": []
  }
 ],
 "metadata": {
  "kernelspec": {
   "display_name": "Python 3.10.8 64-bit (microsoft store)",
   "language": "python",
   "name": "python3"
  },
  "language_info": {
   "codemirror_mode": {
    "name": "ipython",
    "version": 3
   },
   "file_extension": ".py",
   "mimetype": "text/x-python",
   "name": "python",
   "nbconvert_exporter": "python",
   "pygments_lexer": "ipython3",
   "version": "3.10.8"
  },
  "orig_nbformat": 4,
  "vscode": {
   "interpreter": {
    "hash": "0f4ae5743a3c975258dd28a1e83587b05345ccc825b0fe1b5846a6cb0700706e"
   }
  }
 },
 "nbformat": 4,
 "nbformat_minor": 2
}
